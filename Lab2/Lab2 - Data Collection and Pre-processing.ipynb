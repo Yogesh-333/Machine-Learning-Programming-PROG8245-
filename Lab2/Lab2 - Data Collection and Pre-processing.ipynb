{
 "cells": [
  {
   "cell_type": "markdown",
   "id": "7f8adf34",
   "metadata": {},
   "source": [
    "## Import Packages"
   ]
  },
  {
   "cell_type": "code",
   "execution_count": 79,
   "id": "fe5df3b0",
   "metadata": {},
   "outputs": [],
   "source": [
    "import pandas as pd\n",
    "from dataclasses import dataclass\n",
    "from datetime import datetime\n",
    "import re\n",
    "from dataclasses import field\n",
    "from typing import Optional\n",
    "from collections import defaultdict\n",
    "import json\n",
    "import pyarrow as pa\n",
    "import pyarrow.parquet as pq"
   ]
  },
  {
   "cell_type": "markdown",
   "id": "7cb96608",
   "metadata": {},
   "source": [
    "## Step 1: Load raw CSV and display first 3 rows"
   ]
  },
  {
   "cell_type": "code",
   "execution_count": 80,
   "id": "0f343d8a",
   "metadata": {},
   "outputs": [
    {
     "name": "stdout",
     "output_type": "stream",
     "text": [
      "Table: ['date', 'customer_id', 'product_id', 'price', 'quantity', 'coupon_code', 'shipping_city']\n",
      "         date customer_id product_id    price  quantity coupon_code  \\\n",
      "0  2023-10-30    CUST0086       P001  1253.52         1  FREESHIP30   \n",
      "1  2024-05-24    CUST0075       P020   253.25         2         NaN   \n",
      "2  2023-10-06    CUST0079       P007    58.91         2         NaN   \n",
      "\n",
      "  shipping_city  \n",
      "0  Jacksonville  \n",
      "1      New York  \n",
      "2        Denver  \n"
     ]
    }
   ],
   "source": [
    "df = pd.read_csv(\"data/Sales Records.csv\")\n",
    "print(\"Table:\", df.columns.tolist())\n",
    "print(df.head(3))\n"
   ]
  },
  {
   "cell_type": "markdown",
   "id": "be067451",
   "metadata": {},
   "source": [
    "## Step 2: Pick the Right Container\n",
    "\n",
    "Considering the three options to store each row: dictionaries, namedtuples, and classes.  \n",
    "Classes are the way to go because they let us add logic like cleaning up data, transforming it, or calculating totals. Plus, they keep things neat and reusable for each transaction.\n"
   ]
  },
  {
   "cell_type": "markdown",
   "id": "25ea3f6b",
   "metadata": {},
   "source": [
    "# structure and define Transaction class"
   ]
  },
  {
   "cell_type": "code",
   "execution_count": 81,
   "id": "ee74691f",
   "metadata": {},
   "outputs": [],
   "source": [
    "@dataclass\n",
    "class Transaction:\n",
    "    date: str\n",
    "    customer_id: str\n",
    "    product_id: str\n",
    "    price: float\n",
    "    quantity: int\n",
    "    coupon_code: str\n",
    "    shipping_city: str\n",
    "    discount_percent: float = field(default=0.0)\n",
    "    purchase_age_days: Optional[int] = field(default=None)  # Derived field, set later\n",
    "\n",
    "    def clean(self):\n",
    "        try:\n",
    "            self.price = float(self.price)\n",
    "            if self.price < 0:\n",
    "                self.price = 0.0\n",
    "        except:\n",
    "            self.price = 0.0\n",
    "        self.coupon_code = self.coupon_code.upper() if isinstance(self.coupon_code, str) else \"nan\"\n",
    "\n",
    "    def total(self):\n",
    "        return self.price * self.quantity if self.price else 0\n"
   ]
  },
  {
   "cell_type": "markdown",
   "id": "3ce089e4",
   "metadata": {},
   "source": [
    "### Load Transaction data into the data class\n"
   ]
  },
  {
   "cell_type": "code",
   "execution_count": 82,
   "id": "58beb41e",
   "metadata": {},
   "outputs": [],
   "source": [
    "def load_transactions(path: str) -> list[Transaction]:\n",
    "    df = pd.read_csv(path)\n",
    "    transactions = []\n",
    "    for _, row in df.iterrows():        \n",
    "        row_dict = row.to_dict()\n",
    "        transaction = Transaction(**row_dict)    \n",
    "        transactions.append(transaction)\n",
    "    return transactions"
   ]
  },
  {
   "cell_type": "markdown",
   "id": "782d0b2a",
   "metadata": {},
   "source": [
    "# Step 5: Quick Profiling"
   ]
  },
  {
   "cell_type": "code",
   "execution_count": 83,
   "id": "133967f0",
   "metadata": {},
   "outputs": [],
   "source": [
    "def profile_transactions(transactions: list[Transaction]) -> None:\n",
    "    valid_prices_list = [float(t.price) for t in transactions if isinstance(t.price, (int, float))]\n",
    "    unique_cities = len(set(t.shipping_city for t in transactions))\n",
    "    print(\"Quick Profiling: \")\n",
    "    print(f\"Min: {min(valid_prices_list)}\")\n",
    "    print(f\"Mean: {sum(valid_prices_list)/len(valid_prices_list):.2f}\")\n",
    "    print(f\"Max: {max(valid_prices_list)}\")\n",
    "    print(f\"Unique Shipping Cities: {unique_cities}\\n\")\n"
   ]
  },
  {
   "cell_type": "markdown",
   "id": "4b6c4a49",
   "metadata": {},
   "source": [
    "# Step 6: Injected 3 dirty values for demo."
   ]
  },
  {
   "cell_type": "code",
   "execution_count": 84,
   "id": "a35152bc",
   "metadata": {},
   "outputs": [],
   "source": [
    "def inject_dirty_val(transactions: list) -> None:\n",
    "    if len(transactions) >= 3:\n",
    "        transactions[0].price = \"Nan\"\n",
    "        transactions[1].price = -150\n",
    "        transactions[12].price = \"aefada\""
   ]
  },
  {
   "cell_type": "markdown",
   "id": "f2ce4993",
   "metadata": {},
   "source": [
    "# Step 7: Cleaned transactions."
   ]
  },
  {
   "cell_type": "code",
   "execution_count": 85,
   "id": "05a97a21",
   "metadata": {},
   "outputs": [],
   "source": [
    "def clean_all_data(transactions: list[Transaction]) -> None:\n",
    "    before = 0\n",
    "    for t in transactions:\n",
    "        if not isinstance(t.price, float):\n",
    "            before += 1\n",
    "    \n",
    "    for t in transactions:\n",
    "        t.clean()\n",
    "    \n",
    "    after = 0\n",
    "    for t in transactions:\n",
    "        if not isinstance(t.price, float):\n",
    "            after += 1\n",
    "    \n",
    "    print(f\"Cleaning results:\")\n",
    "    print(f\"Before: {before} invalid prices\")\n",
    "    print(f\"After: {after} invalid prices\")"
   ]
  },
  {
   "cell_type": "markdown",
   "id": "aa301e2a",
   "metadata": {},
   "source": [
    "# Step 8: Calculating the discount percent based on the coupon_code."
   ]
  },
  {
   "cell_type": "code",
   "execution_count": 86,
   "id": "c3e099f6",
   "metadata": {},
   "outputs": [],
   "source": [
    "def transform_transactions(transactions: list) -> None:\n",
    "    for t in transactions:\n",
    "        if t.coupon_code and isinstance(t.coupon_code, str):\n",
    "            numbers = re.findall(r\"\\d+\", t.coupon_code)\n",
    "            if numbers:\n",
    "                try:\n",
    "                    t.discount_percent = int(numbers[0]) / 100\n",
    "                except ValueError:\n",
    "                    t.discount_percent = 0.0\n",
    "            else:\n",
    "                t.discount_percent = 0.0\n",
    "        else:\n",
    "            t.discount_percent = 0.0"
   ]
  },
  {
   "cell_type": "markdown",
   "id": "9edca89e",
   "metadata": {},
   "source": [
    "### Calculating the 'days_since_purchase' to each transaction based on the purchased date"
   ]
  },
  {
   "cell_type": "code",
   "execution_count": 87,
   "id": "b58d0a45",
   "metadata": {},
   "outputs": [],
   "source": [
    "def feature_engineer(transactions: list) -> None:\n",
    "    today = datetime.today()\n",
    "    for t in transactions:\n",
    "        t.purchase_age_days = (today - pd.to_datetime(t.date)).days\n"
   ]
  },
  {
   "cell_type": "markdown",
   "id": "f2d8b294",
   "metadata": {},
   "source": [
    "# Step 10: calculation to get Revenue per city."
   ]
  },
  {
   "cell_type": "code",
   "execution_count": 88,
   "id": "0edcddb0",
   "metadata": {},
   "outputs": [],
   "source": [
    "def calculate_city_revenue(transactions: list) -> dict[str, float]:\n",
    "    city_revenues = defaultdict(float)\n",
    "    for transaction in transactions:        \n",
    "        if isinstance(transaction.price, float):\n",
    "            city_revenues[transaction.shipping_city] += transaction.total()\n",
    "    return dict(city_revenues)\n"
   ]
  },
  {
   "cell_type": "markdown",
   "id": "176ba6be",
   "metadata": {},
   "source": [
    "# Step 11: Saved cleaned data in JSON format and Parquet format"
   ]
  },
  {
   "cell_type": "code",
   "execution_count": 89,
   "id": "22ba9fa5",
   "metadata": {},
   "outputs": [],
   "source": [
    "def save_transaction_data(transactions: list, json_path: str, parquet_path: str) -> None:\n",
    "    cleaned_data = [t.__dict__ for t in transactions]\n",
    "    with open(json_path, \"w\") as json_file:\n",
    "        json.dump(cleaned_data, json_file)        \n",
    "    df = pd.DataFrame(cleaned_data)\n",
    "    table = pa.Table.from_pandas(df)\n",
    "    pq.write_table(table, parquet_path)    \n",
    "    print(f\"Saved data to:\\n- JSON: {json_path}\\n- Parquet: {parquet_path}\")"
   ]
  },
  {
   "cell_type": "code",
   "execution_count": 90,
   "id": "262fa3ea",
   "metadata": {},
   "outputs": [],
   "source": [
    "def main():\n",
    "    tx = load_transactions(\"data/Sales Records.csv\")\n",
    "    profile_transactions(tx)\n",
    "    inject_dirty_val(tx)\n",
    "    clean_all_data(tx)\n",
    "    transform_transactions(tx)\n",
    "    feature_engineer(tx)\n",
    "    ag = calculate_city_revenue(tx)\n",
    "    print(F\"City Revenue Summary:{ag}\")\n",
    "    save_transaction_data(tx, \"data/transactions.json\", \"data/transactions.parquet\")\n",
    "    "
   ]
  },
  {
   "cell_type": "markdown",
   "id": "9753403c",
   "metadata": {},
   "source": [
    "# Code Starts Here (Main Function)"
   ]
  },
  {
   "cell_type": "code",
   "execution_count": 91,
   "id": "0bfbc75a",
   "metadata": {},
   "outputs": [
    {
     "name": "stdout",
     "output_type": "stream",
     "text": [
      "Quick Profiling: \n",
      "Min: 19.06\n",
      "Mean: 268.40\n",
      "Max: 1257.09\n",
      "Unique Shipping Cities: 20\n",
      "\n",
      "Cleaning results:\n",
      "Before: 3 invalid prices\n",
      "After: 0 invalid prices\n",
      "City Revenue Summary:{'Jacksonville': nan, 'New York': 8989.23, 'Denver': 18430.690000000002, 'Columbus': 11435.619999999999, 'Houston': 13479.759999999997, 'Charlotte': 9965.210000000001, 'Austin': 8402.78, 'San Diego': 4654.06, 'Washington': 7611.620000000001, 'Dallas': 6764.02, 'Indianapolis': 5513.790000000001, 'San Jose': 11316.869999999999, 'San Antonio': 9362.599999999999, 'Los Angeles': 8810.460000000001, 'Boston': 15069.359999999997, 'Fort Worth': 8219.069999999998, 'Seattle': 12567.03, 'Phoenix': 11145.500000000002, 'Chicago': 13016.979999999996, 'Philadelphia': 7633.510000000001}\n",
      "Saved data to:\n",
      "- JSON: data/transactions.json\n",
      "- Parquet: data/transactions.parquet\n"
     ]
    }
   ],
   "source": [
    "if __name__ == \"__main__\":\n",
    "    main()"
   ]
  },
  {
   "cell_type": "markdown",
   "id": "63ff8fde",
   "metadata": {},
   "source": [
    "# Project Reflection: Benefits of Object-Oriented Programming\n",
    "\n",
    "The adoption of Object-Oriented Programming (OOP) principles significantly enhanced the transaction processing system's architecture and functionality. By implementing a dedicated Transaction class, we achieved cohesive encapsulation of both data attributes (price, shipping city, etc.) and associated behaviors (data cleaning, validation, and calculations). This object-oriented approach offered three key advantages: First, it promoted code reusability, allowing transaction logic to be consistently applied throughout the system without duplication. Second, the self-contained nature of each transaction object simplified complex operations by localizing functionality - each object handles its own data processing while exposing a clean interface. Third, the modular design improved maintainability, as modifications could be made to transaction processing logic without cascading effects across the system. Particularly when handling hundreds of transaction records, this paradigm proved superior to procedural alternatives by reducing error rates through built-in validation and making the codebase more intuitive to debug and extend. The OOP structure ultimately delivered a more robust, organized, and scalable solution."
   ]
  },
  {
   "cell_type": "markdown",
   "id": "f87d18e9",
   "metadata": {},
   "source": [
    "## Data Dictionary\n",
    "\n",
    "Primary: Sales Records.csv\n",
    "Secondary: product_detail.csv\n",
    "\n",
    "\n",
    "\n",
    "| Field             | Type      | Description                                       | Source                |\n",
    "|------------------|-----------|---------------------------------------------------|------------------------|\n",
    "| date             | string    | Purchase date of the transaction                 | Sales Records.csv      |\n",
    "| customer_id      | string    | Unique identifier for each customer              | Sales Records.csv      |\n",
    "| product_id       | string    | Identifier for the product purchased             | Sales Records.csv      |\n",
    "| product_name     | string    | Name of the product                              | product_detail.csv     |\n",
    "| category         | string    | Category of the product                          | product_detail.csv     |\n",
    "| description      | string    | Description of the product                       | product_detail.csv     |\n",
    "| price            | float     | Unit price of the product                        | Sales Records.csv      |\n",
    "| quantity         | int       | Quantity purchased                               | Sales Records.csv      |\n",
    "| coupon_code      | string    | Promotional code used for the transaction        | Sales Records.csv      |\n",
    "| shipping_city    | string    | City where the product is being shipped          | Sales Records.csv      |\n",
    "| discount_pct     | float     | Numeric discount derived from coupon_code        | Derived                |\n",
    "| days_since_purchase | int   | Days since the transaction date                  | Derived                |\n",
    "\n"
   ]
  }
 ],
 "metadata": {
  "kernelspec": {
   "display_name": ".venv",
   "language": "python",
   "name": "python3"
  },
  "language_info": {
   "codemirror_mode": {
    "name": "ipython",
    "version": 3
   },
   "file_extension": ".py",
   "mimetype": "text/x-python",
   "name": "python",
   "nbconvert_exporter": "python",
   "pygments_lexer": "ipython3",
   "version": "3.13.1"
  }
 },
 "nbformat": 4,
 "nbformat_minor": 5
}

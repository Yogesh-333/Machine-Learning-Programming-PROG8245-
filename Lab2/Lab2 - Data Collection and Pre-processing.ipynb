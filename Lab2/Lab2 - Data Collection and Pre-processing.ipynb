{
 "cells": [
  {
   "cell_type": "markdown",
   "id": "7f8adf34",
   "metadata": {},
   "source": [
    "## Import Packages"
   ]
  },
  {
   "cell_type": "code",
   "execution_count": 37,
   "id": "fe5df3b0",
   "metadata": {},
   "outputs": [],
   "source": [
    "import pandas as pd\n",
    "from dataclasses import dataclass\n",
    "from datetime import datetime\n",
    "import re\n"
   ]
  },
  {
   "cell_type": "markdown",
   "id": "7cb96608",
   "metadata": {},
   "source": [
    "## Step 1: Load raw CSV and display first 3 rows"
   ]
  },
  {
   "cell_type": "code",
   "execution_count": 38,
   "id": "0f343d8a",
   "metadata": {},
   "outputs": [
    {
     "name": "stdout",
     "output_type": "stream",
     "text": [
      "Table: ['date', 'customer_id', 'product_id', 'price', 'quantity', 'coupon_code', 'shipping_city']\n",
      "         date customer_id product_id    price  quantity coupon_code  \\\n",
      "0  2023-10-30    CUST0086       P001  1253.52         1    FREESHIP   \n",
      "1  2024-05-24    CUST0075       P020   253.25         2         NaN   \n",
      "2  2023-10-06    CUST0079       P007    58.91         2         NaN   \n",
      "\n",
      "  shipping_city  \n",
      "0  Jacksonville  \n",
      "1      New York  \n",
      "2        Denver  \n"
     ]
    }
   ],
   "source": [
    "df = pd.read_csv(\"data/Sales Records.csv\")\n",
    "print(\"Table:\", df.columns.tolist())\n",
    "print(df.head(3))\n"
   ]
  },
  {
   "cell_type": "markdown",
   "id": "be067451",
   "metadata": {},
   "source": [
    "## Step 2: Pick the Right Container\n",
    "\n",
    "Considering the three options to store each row: dictionaries, namedtuples, and classes.  \n",
    "Classes are the way to go because they let us add logic like cleaning up data, transforming it, or calculating totals. Plus, they keep things neat and reusable for each transaction.\n"
   ]
  },
  {
   "cell_type": "markdown",
   "id": "25ea3f6b",
   "metadata": {},
   "source": [
    "# structure and define Transaction class"
   ]
  },
  {
   "cell_type": "code",
   "execution_count": 39,
   "id": "ee74691f",
   "metadata": {},
   "outputs": [],
   "source": [
    "\n",
    "\n",
    "@dataclass\n",
    "class Transaction:\n",
    "    date: str\n",
    "    customer_id: str\n",
    "    product_id: str\n",
    "    price: float\n",
    "    quantity: int\n",
    "    coupon_code: str\n",
    "    shipping_city: str\n",
    "\n",
    "    def clean(self):\n",
    "        try:\n",
    "            self.price = float(self.price)\n",
    "            if self.price < 0:\n",
    "                self.price = 0.0\n",
    "        except:\n",
    "            self.price = 0.0\n",
    "        self.coupon_code = self.coupon_code.upper() if isinstance(self.coupon_code, str) else \"nan\"\n",
    "\n",
    "    def total(self):\n",
    "        return self.price * self.quantity if self.price else 0\n"
   ]
  },
  {
   "cell_type": "markdown",
   "id": "3ce089e4",
   "metadata": {},
   "source": [
    "Load Transaction data into the data class\n"
   ]
  },
  {
   "cell_type": "code",
   "execution_count": 40,
   "id": "58beb41e",
   "metadata": {},
   "outputs": [],
   "source": [
    "def load_transactions(path: str) -> list[Transaction]:\n",
    "    df = pd.read_csv(path)\n",
    "    transactions = []\n",
    "    for _, row in df.iterrows():        \n",
    "        row_dict = row.to_dict()\n",
    "        transaction = Transaction(**row_dict)    \n",
    "        transactions.append(transaction)\n",
    "    return transactions"
   ]
  },
  {
   "cell_type": "markdown",
   "id": "782d0b2a",
   "metadata": {},
   "source": [
    "Step 5: Quick Profiling"
   ]
  },
  {
   "cell_type": "code",
   "execution_count": 41,
   "id": "133967f0",
   "metadata": {},
   "outputs": [],
   "source": [
    "def profile_transactions(transactions: list[Transaction]) -> None:\n",
    "    valid_prices_list = [float(t.price) for t in transactions if isinstance(t.price, (int, float))]\n",
    "    unique_cities = len(set(t.shipping_city for t in transactions))\n",
    "    print(\"Quick Profiling: \")\n",
    "    print(f\"Min: {min(valid_prices_list)}\")\n",
    "    print(f\"Mean: {sum(valid_prices_list)/len(valid_prices_list):.2f}\")\n",
    "    print(f\"Max: {max(valid_prices_list)}\")\n",
    "    print(f\"Unique Shipping Cities: {unique_cities}\\n\")\n"
   ]
  },
  {
   "cell_type": "markdown",
   "id": "4b6c4a49",
   "metadata": {},
   "source": [
    "Step 6: Injected 3 dirty values for demo."
   ]
  },
  {
   "cell_type": "code",
   "execution_count": 42,
   "id": "a35152bc",
   "metadata": {},
   "outputs": [],
   "source": [
    "def inject_dirty_val(transactions: list) -> None:\n",
    "    if len(transactions) >= 3:\n",
    "        transactions[0].price = \"Nan\"\n",
    "        transactions[1].price = -150\n",
    "        transactions[12].price = \"aefada\""
   ]
  },
  {
   "cell_type": "markdown",
   "id": "f2ce4993",
   "metadata": {},
   "source": [
    "Step 7: Cleaned transactions."
   ]
  },
  {
   "cell_type": "code",
   "execution_count": 43,
   "id": "05a97a21",
   "metadata": {},
   "outputs": [],
   "source": [
    "def clean_all_data(transactions: list[Transaction]) -> None:\n",
    "    before = 0\n",
    "    for t in transactions:\n",
    "        if not isinstance(t.price, float):\n",
    "            before += 1\n",
    "    \n",
    "    for t in transactions:\n",
    "        t.clean()\n",
    "    \n",
    "    after = 0\n",
    "    for t in transactions:\n",
    "        if not isinstance(t.price, float):\n",
    "            after += 1\n",
    "    \n",
    "    print(f\"Cleaning results:\")\n",
    "    print(f\"Before: {before} invalid prices\")\n",
    "    print(f\"After: {after} invalid prices\")"
   ]
  },
  {
   "cell_type": "code",
   "execution_count": 44,
   "id": "262fa3ea",
   "metadata": {},
   "outputs": [],
   "source": [
    "def main():\n",
    "    tx = load_transactions(\"data/Sales Records.csv\")\n",
    "    profile_transactions(tx)\n",
    "    inject_dirty_val(tx)\n",
    "    clean_all_data(tx)\n"
   ]
  },
  {
   "cell_type": "code",
   "execution_count": 45,
   "id": "0bfbc75a",
   "metadata": {},
   "outputs": [
    {
     "name": "stdout",
     "output_type": "stream",
     "text": [
      "Quick Profiling: \n",
      "Min: 19.06\n",
      "Mean: 268.40\n",
      "Max: 1257.09\n",
      "Unique Shipping Cities: 20\n",
      "\n",
      "Cleaning results:\n",
      "Before: 3 invalid prices\n",
      "After: 0 invalid prices\n"
     ]
    }
   ],
   "source": [
    "if __name__ == \"__main__\":\n",
    "    main()"
   ]
  }
 ],
 "metadata": {
  "kernelspec": {
   "display_name": ".venv",
   "language": "python",
   "name": "python3"
  },
  "language_info": {
   "codemirror_mode": {
    "name": "ipython",
    "version": 3
   },
   "file_extension": ".py",
   "mimetype": "text/x-python",
   "name": "python",
   "nbconvert_exporter": "python",
   "pygments_lexer": "ipython3",
   "version": "3.13.1"
  }
 },
 "nbformat": 4,
 "nbformat_minor": 5
}
